{
  "nbformat": 4,
  "nbformat_minor": 0,
  "metadata": {
    "colab": {
      "provenance": []
    },
    "kernelspec": {
      "name": "python3",
      "display_name": "Python 3"
    },
    "language_info": {
      "name": "python"
    }
  },
  "cells": [
    {
      "cell_type": "markdown",
      "source": [
        "**1.What is the difference between a function and a method in Python?**"
      ],
      "metadata": {
        "id": "ZbQY6KvWtfwm"
      }
    },
    {
      "cell_type": "markdown",
      "source": [
        "**Function:**\n",
        "A function is a block of code that performs a specific task.\n",
        "It is defined using the def keyword.\n",
        "It can be called independently.\n",
        "\n",
        "**Example:**\n"
      ],
      "metadata": {
        "id": "C2o9gtuqty2X"
      }
    },
    {
      "cell_type": "code",
      "source": [
        "def greet():\n",
        "  return \"Hi Ganeswar\"\n",
        "greet()"
      ],
      "metadata": {
        "colab": {
          "base_uri": "https://localhost:8080/",
          "height": 35
        },
        "id": "e3BWE7dPt-L9",
        "outputId": "31bacf57-8fd1-4b56-a08b-cae86d4435fe"
      },
      "execution_count": 1,
      "outputs": [
        {
          "output_type": "execute_result",
          "data": {
            "text/plain": [
              "'Hi Ganeswar'"
            ],
            "application/vnd.google.colaboratory.intrinsic+json": {
              "type": "string"
            }
          },
          "metadata": {},
          "execution_count": 1
        }
      ]
    },
    {
      "cell_type": "markdown",
      "source": [
        "**Method:**\n",
        "\n",
        "A method is a function that is associated with an object.\n",
        "It is defined within a class.\n",
        "It is called on an object of that class using the dot operator.\n",
        "\n",
        "**Example:**"
      ],
      "metadata": {
        "id": "BL6qFcZzuTbA"
      }
    },
    {
      "cell_type": "code",
      "source": [
        "class Dog:\n",
        "  def bark(self):\n",
        "    print(\"Woof!\")\n",
        "my_dog=Dog()\n",
        "my_dog.bark()"
      ],
      "metadata": {
        "colab": {
          "base_uri": "https://localhost:8080/"
        },
        "id": "QetK0KjqudMm",
        "outputId": "fead7db6-c8f3-4417-8739-d9fde683016e"
      },
      "execution_count": 3,
      "outputs": [
        {
          "output_type": "stream",
          "name": "stdout",
          "text": [
            "Woof!\n"
          ]
        }
      ]
    },
    {
      "cell_type": "markdown",
      "source": [
        " **2.Explain the concept of function arguments and parameters in Python.**"
      ],
      "metadata": {
        "id": "rAR59m25u-5K"
      }
    },
    {
      "cell_type": "markdown",
      "source": [
        "**Parameters:**\n",
        "\n",
        "Parameters are the placeholders defined in the function's declaration. They represent the values the function expects to receive when it's called.\n",
        "\n",
        "**Arguments:**\n",
        "\n",
        " Arguments are the actual values passed to a function when you call it. They fill the placeholders (parameters) with concrete data."
      ],
      "metadata": {
        "id": "XZ7VRKpVvPIk"
      }
    },
    {
      "cell_type": "code",
      "source": [
        "def greet():\n",
        "  return \"hello, Good Morning\"\n",
        "greet()"
      ],
      "metadata": {
        "colab": {
          "base_uri": "https://localhost:8080/",
          "height": 35
        },
        "id": "XFoSL5B1v5ip",
        "outputId": "7af38671-79be-4530-f103-56ab9a192175"
      },
      "execution_count": 5,
      "outputs": [
        {
          "output_type": "execute_result",
          "data": {
            "text/plain": [
              "'hello, Good Morning'"
            ],
            "application/vnd.google.colaboratory.intrinsic+json": {
              "type": "string"
            }
          },
          "metadata": {},
          "execution_count": 5
        }
      ]
    },
    {
      "cell_type": "markdown",
      "source": [
        "**3. What are the different ways to define and call a function in Python?**"
      ],
      "metadata": {
        "id": "-SDi_CFqwE62"
      }
    },
    {
      "cell_type": "markdown",
      "source": [
        "**Defining a Function:**\n",
        "\n",
        "**Using the def keyword:**\n",
        " This is the standard way to define a function."
      ],
      "metadata": {
        "id": "EBJta52qwQsa"
      }
    },
    {
      "cell_type": "code",
      "source": [
        "def greet(name):\n",
        "       print(f\"Hello, {name}!\")\n",
        "greet(\"Ganeswar\")"
      ],
      "metadata": {
        "colab": {
          "base_uri": "https://localhost:8080/"
        },
        "id": "NDIVQvAxwaLT",
        "outputId": "1e43f5b6-f3c4-49e4-925e-611055498ac9"
      },
      "execution_count": 8,
      "outputs": [
        {
          "output_type": "stream",
          "name": "stdout",
          "text": [
            "Hello, Ganeswar!\n"
          ]
        }
      ]
    },
    {
      "cell_type": "markdown",
      "source": [
        "**2.Using lambda for anonymous functions:**\n",
        "\n",
        "lambda creates small, single-expression functions without a name."
      ],
      "metadata": {
        "id": "oLl0KFN7wu4t"
      }
    },
    {
      "cell_type": "code",
      "source": [
        "add_one = lambda x: x + 1\n",
        "result = add_one(5)\n",
        "print(result)"
      ],
      "metadata": {
        "colab": {
          "base_uri": "https://localhost:8080/"
        },
        "id": "sgtUcm5xw7C6",
        "outputId": "144dfea0-851e-4b0b-9d9c-31bde810b672"
      },
      "execution_count": 19,
      "outputs": [
        {
          "output_type": "stream",
          "name": "stdout",
          "text": [
            "6\n"
          ]
        }
      ]
    },
    {
      "cell_type": "markdown",
      "source": [
        "**Calling a Function:**\n",
        "\n",
        "**Directly by name:**"
      ],
      "metadata": {
        "id": "YtJgFAKQx6J6"
      }
    },
    {
      "cell_type": "code",
      "source": [
        "greet(\"Alice\")"
      ],
      "metadata": {
        "colab": {
          "base_uri": "https://localhost:8080/"
        },
        "id": "4A9MYAVSyFKM",
        "outputId": "c8f1a27f-44f3-41cd-a29f-883d4fca33fd"
      },
      "execution_count": 20,
      "outputs": [
        {
          "output_type": "stream",
          "name": "stdout",
          "text": [
            "Hello, Alice!\n"
          ]
        }
      ]
    },
    {
      "cell_type": "markdown",
      "source": [
        "**Using a variable:**\n",
        "\n",
        "If you've assigned a function to a variable (like with lambda), you can call it using the variable name."
      ],
      "metadata": {
        "id": "L808Qr9KyLHo"
      }
    },
    {
      "cell_type": "code",
      "source": [
        "def greet(name):\n",
        "    print(f\"Hello, {name}!\")\n",
        "greet(\"Ganeswar\")"
      ],
      "metadata": {
        "colab": {
          "base_uri": "https://localhost:8080/"
        },
        "id": "TYMLFry6yUMd",
        "outputId": "d122978b-dcb6-441f-edc3-b04b48baf6fe"
      },
      "execution_count": 24,
      "outputs": [
        {
          "output_type": "stream",
          "name": "stdout",
          "text": [
            "Hello, Ganeswar!\n"
          ]
        }
      ]
    },
    {
      "cell_type": "markdown",
      "source": [
        "**Within another function:**\n",
        "Functions can be nested and called from within each other."
      ],
      "metadata": {
        "id": "DUQe9c6AyhqF"
      }
    },
    {
      "cell_type": "code",
      "source": [
        "def outer_function():\n",
        "       def inner_function():\n",
        "           print(\"Inner function called\")\n",
        "       inner_function()\n",
        "outer_function()"
      ],
      "metadata": {
        "colab": {
          "base_uri": "https://localhost:8080/"
        },
        "id": "fvGJvTpuyXYD",
        "outputId": "0d1dd633-31c1-46f6-847e-14ada4515e4e"
      },
      "execution_count": 25,
      "outputs": [
        {
          "output_type": "stream",
          "name": "stdout",
          "text": [
            "Inner function called\n"
          ]
        }
      ]
    },
    {
      "cell_type": "markdown",
      "source": [
        " **4.What is the purpose of the `return` statement in a Python function?**"
      ],
      "metadata": {
        "id": "fCY2PODYyw0O"
      }
    },
    {
      "cell_type": "markdown",
      "source": [
        "The return statement has two primary purposes in a Python function:\n",
        "\n",
        "**Terminating the Function:**\n",
        "\n",
        " When a return statement is encountered within a function, it immediately stops the execution of the function, even if there's more code after it.\n",
        "\n",
        "**Returning a Value:**\n",
        "\n",
        " The return statement can send a value back to the caller of the function. This value can be any data type: numbers, strings, lists, objects, etc., or even None if no specific value is specified."
      ],
      "metadata": {
        "id": "2aleEOYjy_TQ"
      }
    },
    {
      "cell_type": "code",
      "source": [
        "def add_numbers(x, y):\n",
        "  result = x + y\n",
        "  return result\n",
        "sum_result = add_numbers(5, 3)\n",
        "print(sum_result)\n"
      ],
      "metadata": {
        "colab": {
          "base_uri": "https://localhost:8080/"
        },
        "id": "wd3GAuOhzJui",
        "outputId": "cfe9c1d0-be31-45ad-8da9-af9fc389c399"
      },
      "execution_count": 29,
      "outputs": [
        {
          "output_type": "stream",
          "name": "stdout",
          "text": [
            "8\n"
          ]
        }
      ]
    },
    {
      "cell_type": "markdown",
      "source": [
        "**5. What are iterators in Python and how do they differ from iterables?**"
      ],
      "metadata": {
        "id": "9G7Z7Y2azrjS"
      }
    },
    {
      "cell_type": "markdown",
      "source": [
        "**Iterables:**\n",
        "\n",
        " An iterable is any object in Python that can be looped over using a for loop. It has a method called __iter__() that returns an iterator.They represent a sequence of items that can be accessed one at a time.\n",
        "\n",
        "**Examples:**\n",
        "\n",
        " Lists, tuples, strings, dictionaries, sets, and files are common examples of iterables.\n",
        "\n",
        "**Iterators:** An iterator is an object that implements the iterator protocol, which consists of two methods: __iter__() (returns itself) and __next__() (returns the next item in the sequence). They are used to fetch the next element from an iterable.\n",
        "\n",
        "**Key Differences:**\n",
        "\n",
        "**Functionality:**\n",
        "\n",
        " Iterables are objects you can iterate over. Iterators are objects used to perform the iteration.\n",
        "\n",
        "**Methods:**\n",
        "\n",
        " Iterables have __iter__(). Iterators have __iter__() and __next__().\n",
        "\n",
        "**State:**\n",
        "\n",
        " Iterators keep track of their position in the sequence, while iterables don't."
      ],
      "metadata": {
        "id": "3c2xWxeZz7fl"
      }
    },
    {
      "cell_type": "code",
      "source": [
        "my_list = [1, 2, 3]\n",
        "my_iterator = iter(my_list)\n",
        "\n",
        "print(next(my_iterator))\n",
        "print(next(my_iterator))\n",
        "print(next(my_iterator))"
      ],
      "metadata": {
        "colab": {
          "base_uri": "https://localhost:8080/"
        },
        "id": "bmCsOsoP1hOF",
        "outputId": "f100dfb9-3047-47ef-8752-8ee91d40e4b0"
      },
      "execution_count": 30,
      "outputs": [
        {
          "output_type": "stream",
          "name": "stdout",
          "text": [
            "1\n",
            "2\n",
            "3\n"
          ]
        }
      ]
    },
    {
      "cell_type": "markdown",
      "source": [
        "**6. Explain the concept of generators in Python and how they are defined.**"
      ],
      "metadata": {
        "id": "tCuJd8z51tBX"
      }
    },
    {
      "cell_type": "markdown",
      "source": [
        "**Concept:**\n",
        "\n",
        "Generators are a special type of iterator in Python that provide a concise way to create iterators without the need to define a separate iterator class with __iter__() and __next__() methods. They are essentially functions that can be paused and resumed during their execution.\n",
        "\n",
        "**How They Work:**\n",
        "\n",
        "**1)**Instead of returning a value using return, generators use the yield keyword.\n",
        "\n",
        "**2)**When a generator function is called, it doesn't execute the entire function body immediately. Instead, it returns a generator object.\n",
        "\n",
        "**3)**Each time you call next() on the generator object, it executes the function code until it reaches a yield statement.\n",
        "\n",
        "**4)**The value yielded is returned, and the generator's state is saved. The next time next() is called, execution resumes from where it left off.\n",
        "\n",
        "**5)**When the generator function completes or encounters a return statement (without a value), it raises a StopIteration exception, signaling the end of the sequence."
      ],
      "metadata": {
        "id": "L953JxGe1wor"
      }
    },
    {
      "cell_type": "code",
      "source": [
        "def my_generator(n):\n",
        "  for i in range(n):\n",
        "    yield i\n",
        "gen = my_generator(3)\n",
        "print(next(gen))\n",
        "print(next(gen))\n",
        "print(next(gen))\n"
      ],
      "metadata": {
        "colab": {
          "base_uri": "https://localhost:8080/"
        },
        "id": "BtoHMlAY2v0b",
        "outputId": "b098f20d-67f5-444f-d2b0-70fac0fc80ee"
      },
      "execution_count": 35,
      "outputs": [
        {
          "output_type": "stream",
          "name": "stdout",
          "text": [
            "0\n",
            "1\n",
            "2\n"
          ]
        }
      ]
    },
    {
      "cell_type": "markdown",
      "source": [
        "**7. What are the advantages of using generators over regular functions?**"
      ],
      "metadata": {
        "id": "Dccpr0wu3Cza"
      }
    },
    {
      "cell_type": "markdown",
      "source": [
        "**Advantages of using generators over regular functions in Python:**\n",
        "\n",
        "**1. Memory Efficiency:**\n",
        "\n",
        "**Generators:**\n",
        " Produce values on demand, so they don't store the entire sequence in memory. This is especially beneficial when dealing with large datasets or infinite sequences.\n",
        "\n",
        "**Regular Functions:**\n",
        " Typically generate and return all values at once, which can consume significant memory for large outputs.\n",
        "\n",
        "**2. Lazy Evaluation:**\n",
        "\n",
        "**Generators:**\n",
        " Values are computed and yielded only when requested using next(). This can improve performance by avoiding unnecessary calculations.\n",
        "\n",
        "**Regular Functions:**\n",
        " Calculate all values upfront, even if only a few are needed.\n",
        "\n",
        "\n",
        "\n",
        "**3. Readability and Conciseness:**\n",
        "\n",
        "**Generators:**\n",
        "\n",
        " Often lead to more compact and readable code, especially for tasks involving iteration. The use of yield simplifies the logic compared to defining separate iterator classes.\n",
        "\n",
        "**Regular Functions:**\n",
        " Can require more complex code to achieve similar iterative behavior."
      ],
      "metadata": {
        "id": "Xc9fhu293Ji8"
      }
    },
    {
      "cell_type": "code",
      "source": [
        "def fibonacci_generator(n):\n",
        "  a, b = 0, 1\n",
        "  for _ in range(n):\n",
        "    yield a\n",
        "    a, b = b, a + b\n",
        "fib_gen = fibonacci_generator(10)\n",
        "for num in fib_gen:\n",
        "  print(num)"
      ],
      "metadata": {
        "colab": {
          "base_uri": "https://localhost:8080/"
        },
        "id": "-4I-Bnsa5sSM",
        "outputId": "9fa75508-5834-4caa-d9f3-82016832389b"
      },
      "execution_count": 53,
      "outputs": [
        {
          "output_type": "stream",
          "name": "stdout",
          "text": [
            "0\n",
            "1\n",
            "1\n",
            "2\n",
            "3\n",
            "5\n",
            "8\n",
            "13\n",
            "21\n",
            "34\n"
          ]
        }
      ]
    },
    {
      "cell_type": "code",
      "source": [
        "def fibonacci_function(n):\n",
        "    result = []\n",
        "    a, b = 0, 1\n",
        "    for _ in range(n):\n",
        "        result.append(a)\n",
        "        a, b = b, a + b\n",
        "    return result\n",
        "fib_list = fibonacci_function(10)\n",
        "print(fib_list)"
      ],
      "metadata": {
        "colab": {
          "base_uri": "https://localhost:8080/"
        },
        "id": "88CI7EXj7t2M",
        "outputId": "3af91caf-a2a2-41ac-ebd7-fd5e8f6604c4"
      },
      "execution_count": 57,
      "outputs": [
        {
          "output_type": "stream",
          "name": "stdout",
          "text": [
            "[0, 1, 1, 2, 3, 5, 8, 13, 21, 34]\n"
          ]
        }
      ]
    },
    {
      "cell_type": "markdown",
      "source": [
        "**8. What is a lambda function in Python and when is it typically used?**\n",
        "\n",
        "A lambda function is a small, anonymous function (a function without a name) that is defined using the lambda keyword. It can take any number of arguments but can only have a single expression.\n",
        "\n",
        "**When to Use Lambda Functions:**\n",
        "\n",
        "Lambda functions are typically used in the following situations:\n",
        "\n",
        "**1.Short, Simple Functions:**\n",
        "\n",
        " When you need a simple function that can be expressed in a single line of code, a lambda function can be more concise than defining a regular function using def.\n",
        "\n",
        "**2.As Arguments to Higher-Order Functions:**\n",
        "\n",
        " Higher-order functions are functions that take other functions as arguments. Lambda functions are often used as arguments to functions like map, filter, and sorted.\n",
        "\n",
        "**3.Creating Closures:**\n",
        "\n",
        " A closure is a function object that remembers values in enclosing scopes even if they are no longer present in memory. Lambda functions can be used to create closures.\n",
        "\n",
        "**4.One-Time Use Functions:**\n",
        "\n",
        " If you need a function only once and don't want to clutter your code with a named function definition, a lambda function can be used."
      ],
      "metadata": {
        "id": "Ak3Vj36s8CD8"
      }
    },
    {
      "cell_type": "code",
      "source": [
        "add_one = lambda x: x + 1\n",
        "result = add_one(5)\n",
        "print(result)"
      ],
      "metadata": {
        "colab": {
          "base_uri": "https://localhost:8080/"
        },
        "id": "7rlDNEw58-kc",
        "outputId": "c68d25e3-e8e1-4d63-c64b-8e7567c75dfe"
      },
      "execution_count": 59,
      "outputs": [
        {
          "output_type": "stream",
          "name": "stdout",
          "text": [
            "6\n"
          ]
        }
      ]
    },
    {
      "cell_type": "markdown",
      "source": [
        "**9. Explain the purpose and usage of the `map()` function in Python.**\n",
        "\n",
        "**Purpose:**\n",
        "\n",
        "The map() function is a built-in higher-order function that applies a given function to each item of an iterable (like a list, tuple, or string) and returns an iterator that yields the results.\n",
        "\n",
        "**function:**\n",
        "\n",
        " The function to be applied to each item of the iterable.\n",
        "\n",
        "**iterable:**\n",
        "\n",
        " The iterable containing the items to be processed.\n"
      ],
      "metadata": {
        "id": "6QFON7g99HDz"
      }
    },
    {
      "source": [
        "numbers = [1, 2, 3, 4, 5]\n",
        "squared_numbers = map(lambda x: x**2, numbers)\n",
        "print(list(squared_numbers))"
      ],
      "cell_type": "code",
      "metadata": {
        "colab": {
          "base_uri": "https://localhost:8080/"
        },
        "id": "gLjJIzwz9pa3",
        "outputId": "56c2ace1-b43a-486a-caaf-fb2c0e50622c"
      },
      "execution_count": 61,
      "outputs": [
        {
          "output_type": "stream",
          "name": "stdout",
          "text": [
            "[1, 4, 9, 16, 25]\n"
          ]
        }
      ]
    },
    {
      "cell_type": "markdown",
      "source": [
        "**10. What is the difference between `map()`, `reduce()`, and `filter()` functions in Python?**\n",
        "\n",
        "**map():**\n",
        "Applies a function to each item of an iterable and returns an iterator with the results.It transforms each element of the iterable based on the given function."
      ],
      "metadata": {
        "id": "-Z6wwQIb9ztA"
      }
    },
    {
      "cell_type": "code",
      "source": [
        "numbers = [1, 2, 3, 4, 5]\n",
        "squared_numbers = map(lambda x: x**2, numbers)\n",
        "print(list(squared_numbers))"
      ],
      "metadata": {
        "colab": {
          "base_uri": "https://localhost:8080/"
        },
        "id": "QRQ_QmAn-JCj",
        "outputId": "522216f9-a651-4133-fd3e-5908c2c14a95"
      },
      "execution_count": 62,
      "outputs": [
        {
          "output_type": "stream",
          "name": "stdout",
          "text": [
            "[1, 4, 9, 16, 25]\n"
          ]
        }
      ]
    },
    {
      "cell_type": "markdown",
      "source": [
        "**reduce():**\n",
        "Applies a function cumulatively to the items of an iterable, reducing them to a single value."
      ],
      "metadata": {
        "id": "GELky3fV-O5C"
      }
    },
    {
      "source": [
        "from functools import reduce\n",
        "\n",
        "numbers = [1, 2, 3, 4, 5]\n",
        "product = reduce(lambda x, y: x * y, numbers)\n",
        "print(product)"
      ],
      "cell_type": "code",
      "metadata": {
        "colab": {
          "base_uri": "https://localhost:8080/"
        },
        "id": "7BPVgXvk-WA-",
        "outputId": "8baed010-37bb-4e4a-b38b-7cd1625f7ba1"
      },
      "execution_count": 63,
      "outputs": [
        {
          "output_type": "stream",
          "name": "stdout",
          "text": [
            "120\n"
          ]
        }
      ]
    },
    {
      "cell_type": "markdown",
      "source": [
        "**filter():**\n",
        " Filters elements from an iterable based on a condition specified by a function."
      ],
      "metadata": {
        "id": "_-_kmDM8-Zu7"
      }
    },
    {
      "source": [
        "numbers = [1, 2, 3, 4, 5]\n",
        "even_numbers = filter(lambda x: x % 2 == 0, numbers)\n",
        "print(list(even_numbers))"
      ],
      "cell_type": "code",
      "metadata": {
        "colab": {
          "base_uri": "https://localhost:8080/"
        },
        "id": "tgDbuGXJ-g2u",
        "outputId": "ac54bd83-f420-4139-9ff5-97f9c43acd3d"
      },
      "execution_count": 64,
      "outputs": [
        {
          "output_type": "stream",
          "name": "stdout",
          "text": [
            "[2, 4]\n"
          ]
        }
      ]
    },
    {
      "cell_type": "markdown",
      "source": [
        "#Practical Questions"
      ],
      "metadata": {
        "id": "6ujjaRdX-kdy"
      }
    },
    {
      "cell_type": "markdown",
      "source": [
        "1. Write a Python function that takes a list of numbers as input and returns the sum of all even numbers in\n",
        "the list."
      ],
      "metadata": {
        "id": "46UDJRyg-9-2"
      }
    },
    {
      "source": [
        "def sum_of_even_numbers(numbers):\n",
        "    even_sum = 0\n",
        "    for num in numbers:\n",
        "        if num % 2 == 0:\n",
        "            even_sum += num\n",
        "    return even_sum\n",
        "sum_of_even_numbers([1, 2, 3, 4, 5, 6, 7, 8, 9, 10])"
      ],
      "cell_type": "code",
      "metadata": {
        "colab": {
          "base_uri": "https://localhost:8080/"
        },
        "id": "wXDQihs2_cor",
        "outputId": "fb2ec7ab-070b-4bcb-a0a8-a180bb4fc966"
      },
      "execution_count": 66,
      "outputs": [
        {
          "output_type": "execute_result",
          "data": {
            "text/plain": [
              "30"
            ]
          },
          "metadata": {},
          "execution_count": 66
        }
      ]
    },
    {
      "cell_type": "markdown",
      "source": [
        "**2. Create a Python function that accepts a string and returns the reverse of that string.**"
      ],
      "metadata": {
        "id": "BmjPtoW7_0iX"
      }
    },
    {
      "cell_type": "code",
      "source": [
        "def reverse_string(string):\n",
        "    reversed_string = \"\"\n",
        "    for char in string:\n",
        "        reversed_string = char + reversed_string\n",
        "    return reversed_string\n",
        "reverse_string(\"Ganeswar\")"
      ],
      "metadata": {
        "colab": {
          "base_uri": "https://localhost:8080/",
          "height": 35
        },
        "id": "fpJxHlal_7Fu",
        "outputId": "50ae8081-e025-4a9b-d9ce-1884ae280b10"
      },
      "execution_count": 67,
      "outputs": [
        {
          "output_type": "execute_result",
          "data": {
            "text/plain": [
              "'rawsenaG'"
            ],
            "application/vnd.google.colaboratory.intrinsic+json": {
              "type": "string"
            }
          },
          "metadata": {},
          "execution_count": 67
        }
      ]
    },
    {
      "cell_type": "markdown",
      "source": [
        "**3. Implement a Python function that takes a list of integers and returns a new list containing the squares of\n",
        "each number**"
      ],
      "metadata": {
        "id": "yQ41lhF3AQVU"
      }
    },
    {
      "cell_type": "code",
      "source": [
        "def square_numbers(numbers):\n",
        "    squared_numbers = []\n",
        "    for num in numbers:\n",
        "        squared_numbers.append(num ** 2)\n",
        "    return squared_numbers\n",
        "square_numbers([1, 2, 3, 4, 5])"
      ],
      "metadata": {
        "colab": {
          "base_uri": "https://localhost:8080/"
        },
        "id": "55ZcB5KG_7IC",
        "outputId": "647cb867-b78e-4530-ac7b-87a7e17124c2"
      },
      "execution_count": 68,
      "outputs": [
        {
          "output_type": "execute_result",
          "data": {
            "text/plain": [
              "[1, 4, 9, 16, 25]"
            ]
          },
          "metadata": {},
          "execution_count": 68
        }
      ]
    },
    {
      "cell_type": "markdown",
      "source": [
        "**4. Write a Python function that checks if a given number is prime or not from 1 to 200**"
      ],
      "metadata": {
        "id": "iSdhVJO0AYTo"
      }
    },
    {
      "cell_type": "code",
      "source": [
        "def is_prime(number):\n",
        "    if number < 2:\n",
        "        return False\n",
        "    for i in range(2, int(number**0.5) + 1):\n",
        "        if number % i == 0:\n",
        "            return False\n",
        "    return True\n",
        "is_prime(17)"
      ],
      "metadata": {
        "colab": {
          "base_uri": "https://localhost:8080/"
        },
        "id": "aH84mm7gAe6x",
        "outputId": "70be3883-55f5-4f0d-862c-154238ee03ec"
      },
      "execution_count": 71,
      "outputs": [
        {
          "output_type": "execute_result",
          "data": {
            "text/plain": [
              "True"
            ]
          },
          "metadata": {},
          "execution_count": 71
        }
      ]
    },
    {
      "cell_type": "markdown",
      "source": [
        "**5. Create an iterator class in Python that generates the Fibonacci sequence up to a specified number of\n",
        "terms.**"
      ],
      "metadata": {
        "id": "JM2oQOV5AlVS"
      }
    },
    {
      "cell_type": "code",
      "source": [
        "def fibonacci_generator(n):\n",
        "    a, b = 0, 1\n",
        "    for _ in range(n):\n",
        "        yield a\n",
        "        a, b = b, a + b\n",
        "fib_gen = fibonacci_generator(10)\n",
        "print(list(fib_gen))"
      ],
      "metadata": {
        "colab": {
          "base_uri": "https://localhost:8080/"
        },
        "id": "Q0_H0JHpAsqK",
        "outputId": "84bb78e2-d529-4fe6-daad-939c76cbad47"
      },
      "execution_count": 72,
      "outputs": [
        {
          "output_type": "stream",
          "name": "stdout",
          "text": [
            "[0, 1, 1, 2, 3, 5, 8, 13, 21, 34]\n"
          ]
        }
      ]
    },
    {
      "cell_type": "markdown",
      "source": [
        "**6. Write a generator function in Python that yields the powers of 2 up to a given exponent.**"
      ],
      "metadata": {
        "id": "jQnQdyLpA4p_"
      }
    },
    {
      "cell_type": "code",
      "source": [
        "def power_of_two_generator(n):\n",
        "    power = 1\n",
        "    for _ in range(n):\n",
        "        yield power\n",
        "        power *= 2\n",
        "power_gen = power_of_two_generator(5)\n",
        "print(list(power_gen))"
      ],
      "metadata": {
        "colab": {
          "base_uri": "https://localhost:8080/"
        },
        "id": "GH3QlaltA7Q_",
        "outputId": "e5431890-5adf-4135-e78d-356a0b9c7fc9"
      },
      "execution_count": 73,
      "outputs": [
        {
          "output_type": "stream",
          "name": "stdout",
          "text": [
            "[1, 2, 4, 8, 16]\n"
          ]
        }
      ]
    },
    {
      "cell_type": "markdown",
      "source": [
        "**7. Implement a generator function that reads a file line by line and yields each line as a string.**"
      ],
      "metadata": {
        "id": "Hgdnu5AqBDdO"
      }
    },
    {
      "cell_type": "code",
      "source": [
        "def read_file_lines(file_path):\n",
        "    with open(file_path, 'r') as file:\n",
        "        for line in file:\n",
        "            yield line.strip()\n",
        "file_path = 'my_file.txt'\n",
        "read_file_lines(file_path)"
      ],
      "metadata": {
        "colab": {
          "base_uri": "https://localhost:8080/"
        },
        "id": "HdTTuow_BHSH",
        "outputId": "3e1feefa-446b-43d6-84c6-ae1913dd75bf"
      },
      "execution_count": 84,
      "outputs": [
        {
          "output_type": "execute_result",
          "data": {
            "text/plain": [
              "<generator object read_file_lines at 0x7bdfc0a86f80>"
            ]
          },
          "metadata": {},
          "execution_count": 84
        }
      ]
    },
    {
      "cell_type": "markdown",
      "source": [
        "**8. Use a lambda function in Python to sort a list of tuples based on the second element of each tuple.**"
      ],
      "metadata": {
        "id": "g0X5GLEsE4yM"
      }
    },
    {
      "cell_type": "code",
      "source": [
        "data = [(1, 5), (3, 2), (2, 8), (4, 1)]\n",
        "sorted_data = sorted(data, key=lambda x: x[1])\n",
        "sorted_data"
      ],
      "metadata": {
        "colab": {
          "base_uri": "https://localhost:8080/"
        },
        "id": "ad_mwoTjE9ZL",
        "outputId": "087f8e2b-4cfc-49ec-dc0a-5d23771efb3c"
      },
      "execution_count": 90,
      "outputs": [
        {
          "output_type": "execute_result",
          "data": {
            "text/plain": [
              "[(4, 1), (3, 2), (1, 5), (2, 8)]"
            ]
          },
          "metadata": {},
          "execution_count": 90
        }
      ]
    },
    {
      "cell_type": "markdown",
      "source": [
        "**9. Write a Python program that uses `map()` to convert a list of temperatures from Celsius to Fahrenheit.**"
      ],
      "metadata": {
        "id": "TN_Ql0kTFdtz"
      }
    },
    {
      "cell_type": "code",
      "source": [
        "def celsius_to_fahrenheit(celsius):\n",
        "  return (celsius * 9/5) + 32\n",
        "celsius_temperatures = [0, 10, 20, 30, 40]\n",
        "fahrenheit_temperatures = list(map(celsius_to_fahrenheit, celsius_temperatures))\n",
        "fahrenheit_temperatures"
      ],
      "metadata": {
        "colab": {
          "base_uri": "https://localhost:8080/"
        },
        "id": "GInDgbtwFiY5",
        "outputId": "c0e58087-511e-4108-9d35-7daf8b6b966b"
      },
      "execution_count": 91,
      "outputs": [
        {
          "output_type": "execute_result",
          "data": {
            "text/plain": [
              "[32.0, 50.0, 68.0, 86.0, 104.0]"
            ]
          },
          "metadata": {},
          "execution_count": 91
        }
      ]
    },
    {
      "cell_type": "markdown",
      "source": [
        "**10. Create a Python program that uses `filter()` to remove all the vowels from a given string.**"
      ],
      "metadata": {
        "id": "sX4cvM5hFu4q"
      }
    },
    {
      "cell_type": "code",
      "source": [
        "def remove_vowels(string):\n",
        "    vowels = \"aeiouAEIOU\"\n",
        "    return \"\".join(filter(lambda char: char not in vowels, string))\n",
        "remove_vowels(\"Ganeswar\")"
      ],
      "metadata": {
        "colab": {
          "base_uri": "https://localhost:8080/",
          "height": 35
        },
        "id": "QRMWvkYCF0Jn",
        "outputId": "32bdeed1-a2e7-4fd5-8259-834b5ee13390"
      },
      "execution_count": 96,
      "outputs": [
        {
          "output_type": "execute_result",
          "data": {
            "text/plain": [
              "'Gnswr'"
            ],
            "application/vnd.google.colaboratory.intrinsic+json": {
              "type": "string"
            }
          },
          "metadata": {},
          "execution_count": 96
        }
      ]
    },
    {
      "cell_type": "markdown",
      "source": [
        "**11) Imagine an accounting routine used in a book shop. It works on a list with sublists, which look like this:Write a Python program, which returns a list with 2-tuples. Each tuple consists of the order number and the\n",
        "product of the price per item and the quantity. The product should be increased by 10,- € if the value of the\n",
        "order is smaller than 100,00 €.Write a Python program using lambda and map.**"
      ],
      "metadata": {
        "id": "kiT6wFc5GLDe"
      }
    },
    {
      "cell_type": "code",
      "source": [
        "orders = [[34587, \"Learning Python, Mark Lutz\", 4, 40.95],\n",
        "          [98762, \"Programming Python, Mark Lutz\", 5, 56.80],\n",
        "          [77226, \"Head First Python, Paul Barry\", 3, 32.95],\n",
        "          [88112, \"Einführung in Python3, Bernd Klein\", 3, 24.99]]\n",
        "\n",
        "def calculate_order_value(order):\n",
        "    return order[0], order[2]*order[3]+10 if order[2]*order[3]<100 else order[2]*order[3]\n",
        "\n",
        "print(list(map(calculate_order_value, orders)))"
      ],
      "metadata": {
        "colab": {
          "base_uri": "https://localhost:8080/"
        },
        "id": "w6hAmZMDKXVw",
        "outputId": "d526fe13-ce88-47d5-adcb-2b5ef758b93f"
      },
      "execution_count": 99,
      "outputs": [
        {
          "output_type": "stream",
          "name": "stdout",
          "text": [
            "[(34587, 163.8), (98762, 284.0), (77226, 108.85000000000001), (88112, 84.97)]\n"
          ]
        }
      ]
    }
  ]
}